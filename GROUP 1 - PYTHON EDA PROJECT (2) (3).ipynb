{
 "cells": [
  {
   "cell_type": "markdown",
   "id": "04445641-33f3-4fc5-86ee-62c44f0912aa",
   "metadata": {},
   "source": [
    "## Introduction"
   ]
  },
  {
   "cell_type": "markdown",
   "id": "8b050f50-729e-47e5-95a9-b30ea658a4b6",
   "metadata": {},
   "source": [
    "##### The chosen topic is to test the theory on whether the students test score is affected by the following three factors, such as:\n",
    "##### 1. The test score is different by the gender of the students: to test the hypotesis whether the gender factor plays a role on the performance of students\n",
    "##### 2. Does the test preperation course has an effect on the overall score of the subjects\n",
    "##### 3. Does parental level of education plays a role in the test scores\n",
    "\n",
    "##### An analysis have been done on the above mentioned hypothesis where charts were used to visualize the data comparison"
   ]
  },
  {
   "cell_type": "markdown",
   "id": "7426a377-f34d-47b2-8bf0-1ea37ff503bb",
   "metadata": {},
   "source": [
    "### DONT FORGET TO FILL\n",
    "##### Link to the original data source: https://www.kaggle.com/datasets/spscientist/students-performance-in-exams/data\n",
    "##### Data dictionary:\n",
    "##### The raw data file (important for your instructor to run your code)"
   ]
  },
  {
   "cell_type": "markdown",
   "id": "ea610e5a-2cfc-4f3f-ac89-9e53ca1373b5",
   "metadata": {},
   "source": [
    "### Questions:\n",
    "##### 1. Is there a difference in the average scores of math, reading, and writing between male and female students?\n",
    "##### 2. Is there a relation between the test preperation course and the scores?\n",
    "##### 3. Is there a relationship between the parental level of education and scores?"
   ]
  },
  {
   "cell_type": "markdown",
   "id": "2692e6ad-798e-421c-b41b-0cdae656f6ef",
   "metadata": {},
   "source": [
    "### Start of Analysis"
   ]
  },
  {
   "cell_type": "code",
   "execution_count": 7,
   "id": "42b99de0-2cbd-4c50-a5f5-2b842ef3f496",
   "metadata": {},
   "outputs": [],
   "source": [
    "import pandas as pd"
   ]
  },
  {
   "cell_type": "code",
   "execution_count": 9,
   "id": "5897ebed-4e15-4b00-bc60-05113e2f225c",
   "metadata": {},
   "outputs": [],
   "source": [
    "students_per= pd.read_csv(\"StudentsPerformance.csv\")\n",
    "#Rename of the file"
   ]
  },
  {
   "cell_type": "code",
   "execution_count": 11,
   "id": "79c6ad7e-d249-4ebf-a097-f71e826b11fc",
   "metadata": {},
   "outputs": [
    {
     "name": "stdout",
     "output_type": "stream",
     "text": [
      "<class 'pandas.core.frame.DataFrame'>\n",
      "RangeIndex: 1000 entries, 0 to 999\n",
      "Data columns (total 8 columns):\n",
      " #   Column                       Non-Null Count  Dtype \n",
      "---  ------                       --------------  ----- \n",
      " 0   gender                       1000 non-null   object\n",
      " 1   race/ethnicity               1000 non-null   object\n",
      " 2   parental level of education  1000 non-null   object\n",
      " 3   lunch                        1000 non-null   object\n",
      " 4   test preparation course      1000 non-null   object\n",
      " 5   math score                   1000 non-null   int64 \n",
      " 6   reading score                1000 non-null   int64 \n",
      " 7   writing score                1000 non-null   int64 \n",
      "dtypes: int64(3), object(5)\n",
      "memory usage: 62.6+ KB\n"
     ]
    }
   ],
   "source": [
    "students_per.info()\n",
    "#we used the informations function to visualize the data we have \n",
    "#in order to view whether the data requires cleaning or not"
   ]
  },
  {
   "cell_type": "markdown",
   "id": "1dc642a3-8e75-4aeb-ac29-7f6307bf8d82",
   "metadata": {},
   "source": [
    "### Data Cleaning"
   ]
  },
  {
   "cell_type": "code",
   "execution_count": 14,
   "id": "38b847fb-3b54-425d-97c3-49420ea58b0a",
   "metadata": {},
   "outputs": [],
   "source": [
    "students_per= students_per.drop(columns=['race/ethnicity','lunch'])\n",
    "# we removed two columns that are not related to the Problem Statement (Race/Ethnicity & Lunch)"
   ]
  },
  {
   "cell_type": "code",
   "execution_count": 16,
   "id": "743558ce-fc6d-4597-979c-6f329e0ee5cd",
   "metadata": {},
   "outputs": [
    {
     "name": "stdout",
     "output_type": "stream",
     "text": [
      "<class 'pandas.core.frame.DataFrame'>\n",
      "RangeIndex: 1000 entries, 0 to 999\n",
      "Data columns (total 6 columns):\n",
      " #   Column                       Non-Null Count  Dtype \n",
      "---  ------                       --------------  ----- \n",
      " 0   gender                       1000 non-null   object\n",
      " 1   parental level of education  1000 non-null   object\n",
      " 2   test preparation course      1000 non-null   object\n",
      " 3   math score                   1000 non-null   int64 \n",
      " 4   reading score                1000 non-null   int64 \n",
      " 5   writing score                1000 non-null   int64 \n",
      "dtypes: int64(3), object(3)\n",
      "memory usage: 47.0+ KB\n"
     ]
    }
   ],
   "source": [
    "students_per.info()\n",
    "# we used the function again to confirm that the columns have been removed"
   ]
  },
  {
   "cell_type": "markdown",
   "id": "2d702848-4a04-4df0-bb0a-7aa92a13739c",
   "metadata": {},
   "source": [
    "#### 1. Is there a difference in the average scores of math, reading, and writing between male and female students?"
   ]
  },
  {
   "cell_type": "code",
   "execution_count": 19,
   "id": "f170ffb3-26c8-4182-9eab-b2c2efb38e1f",
   "metadata": {},
   "outputs": [
    {
     "data": {
      "text/html": [
       "<div>\n",
       "<style scoped>\n",
       "    .dataframe tbody tr th:only-of-type {\n",
       "        vertical-align: middle;\n",
       "    }\n",
       "\n",
       "    .dataframe tbody tr th {\n",
       "        vertical-align: top;\n",
       "    }\n",
       "\n",
       "    .dataframe thead th {\n",
       "        text-align: right;\n",
       "    }\n",
       "</style>\n",
       "<table border=\"1\" class=\"dataframe\">\n",
       "  <thead>\n",
       "    <tr style=\"text-align: right;\">\n",
       "      <th></th>\n",
       "      <th>math score</th>\n",
       "      <th>reading score</th>\n",
       "      <th>writing score</th>\n",
       "    </tr>\n",
       "    <tr>\n",
       "      <th>gender</th>\n",
       "      <th></th>\n",
       "      <th></th>\n",
       "      <th></th>\n",
       "    </tr>\n",
       "  </thead>\n",
       "  <tbody>\n",
       "    <tr>\n",
       "      <th>female</th>\n",
       "      <td>63.633205</td>\n",
       "      <td>72.608108</td>\n",
       "      <td>72.467181</td>\n",
       "    </tr>\n",
       "    <tr>\n",
       "      <th>male</th>\n",
       "      <td>68.728216</td>\n",
       "      <td>65.473029</td>\n",
       "      <td>63.311203</td>\n",
       "    </tr>\n",
       "  </tbody>\n",
       "</table>\n",
       "</div>"
      ],
      "text/plain": [
       "        math score  reading score  writing score\n",
       "gender                                          \n",
       "female   63.633205      72.608108      72.467181\n",
       "male     68.728216      65.473029      63.311203"
      ]
     },
     "execution_count": 19,
     "metadata": {},
     "output_type": "execute_result"
    }
   ],
   "source": [
    "cols_to_see1 = [\"gender\", \"math score\",\"reading score\",\"writing score\"]\n",
    "students_per.groupby('gender')[['math score', 'reading score', 'writing score']].mean()\n",
    "# this method use to calculate the average of score of math , reading and writing according to gender (male & female)"
   ]
  },
  {
   "cell_type": "code",
   "execution_count": 53,
   "id": "6a682087-0cfd-4b20-b733-6482d14f3275",
   "metadata": {},
   "outputs": [],
   "source": [
    "# import the library i need to built the chart\n",
    "import seaborn as sns\n",
    "import matplotlib.pyplot as plt"
   ]
  },
  {
   "cell_type": "code",
   "execution_count": 55,
   "id": "a178d4b7-568f-4b54-9890-6529e8f7e82a",
   "metadata": {},
   "outputs": [],
   "source": [
    "average_scores = students_per.groupby('gender')[['math score', 'reading score', 'writing score']].mean().reset_index()"
   ]
  },
  {
   "cell_type": "code",
   "execution_count": 23,
   "id": "963ca5f1-875d-4e61-b224-2a791918fe94",
   "metadata": {},
   "outputs": [
    {
     "data": {
      "image/png": "[encoded data removed]",
      "text/plain": [
       "<Figure size 640x480 with 1 Axes>"
      ]
     },
     "metadata": {},
     "output_type": "display_data"
    }
   ],
   "source": [
    "# convert the table to sutablr form for drawing\n",
    "average_scores_melted = average_scores.melt(id_vars='gender', \n",
    "                                             var_name='Subject', \n",
    "                                             value_name='Average Score')\n",
    "\n",
    "# draw the chart\n",
    "sns.set(style=\"whitegrid\")\n",
    "sns.barplot(data=average_scores_melted, x='Subject', y='Average Score', hue='gender')\n",
    "\n",
    "plt.title('average student scores according to gender')\n",
    "plt.ylabel('average score')\n",
    "plt.xlabel('subject')\n",
    "plt.legend(title='gender')\n",
    "plt.show()"
   ]
  },
  {
   "cell_type": "markdown",
   "id": "8e7b8750-5608-49ff-8a0a-1743404989b7",
   "metadata": {},
   "source": [
    "#### 2. Is there a relation between the test preperation course and the scores and who score the highest and between both geders?"
   ]
  },
  {
   "cell_type": "code",
   "execution_count": 47,
   "id": "bd78901b-2f00-4e31-9be1-593cdda89935",
   "metadata": {
    "scrolled": true
   },
   "outputs": [
    {
     "data": {
      "text/html": [
       "<div>\n",
       "<style scoped>\n",
       "    .dataframe tbody tr th:only-of-type {\n",
       "        vertical-align: middle;\n",
       "    }\n",
       "\n",
       "    .dataframe tbody tr th {\n",
       "        vertical-align: top;\n",
       "    }\n",
       "\n",
       "    .dataframe thead th {\n",
       "        text-align: right;\n",
       "    }\n",
       "</style>\n",
       "<table border=\"1\" class=\"dataframe\">\n",
       "  <thead>\n",
       "    <tr style=\"text-align: right;\">\n",
       "      <th></th>\n",
       "      <th>math score</th>\n",
       "      <th>reading score</th>\n",
       "      <th>writing score</th>\n",
       "    </tr>\n",
       "    <tr>\n",
       "      <th>test preparation course</th>\n",
       "      <th></th>\n",
       "      <th></th>\n",
       "      <th></th>\n",
       "    </tr>\n",
       "  </thead>\n",
       "  <tbody>\n",
       "    <tr>\n",
       "      <th>completed</th>\n",
       "      <td>69.695531</td>\n",
       "      <td>73.893855</td>\n",
       "      <td>74.418994</td>\n",
       "    </tr>\n",
       "    <tr>\n",
       "      <th>none</th>\n",
       "      <td>64.077882</td>\n",
       "      <td>66.534268</td>\n",
       "      <td>64.504673</td>\n",
       "    </tr>\n",
       "  </tbody>\n",
       "</table>\n",
       "</div>"
      ],
      "text/plain": [
       "                         math score  reading score  writing score\n",
       "test preparation course                                          \n",
       "completed                 69.695531      73.893855      74.418994\n",
       "none                      64.077882      66.534268      64.504673"
      ]
     },
     "execution_count": 47,
     "metadata": {},
     "output_type": "execute_result"
    }
   ],
   "source": [
    "cols_to_see = [\"test preparation course\", \"math score\",\"reading score\",\"writing score\"]\n",
    "\n",
    "students_per[cols_to_see].groupby([\"test preparation course\"]).mean()\n",
    "# this was used to view the effect on test scores of those who have completed the test preperation course and didn't in general"
   ]
  },
  {
   "cell_type": "code",
   "execution_count": 70,
   "id": "c546e6f3-7441-4e1d-a5c8-59ea776c4833",
   "metadata": {},
   "outputs": [],
   "source": [
    "cols_to_see = [\"test preparation course\", \"math score\", \"reading score\", \"writing score\"]\n",
    "grouped_scores = students_per[cols_to_see].groupby(\"test preparation course\").mean().reset_index()"
   ]
  },
  {
   "cell_type": "code",
   "execution_count": 72,
   "id": "ed363115-522e-4398-ba5f-0c82c575aa8d",
   "metadata": {},
   "outputs": [],
   "source": [
    "grouped_scores_melted = grouped_scores.melt(id_vars='test preparation course', \n",
    "                                            var_name='Subject', \n",
    "                                            value_name='Average Score')"
   ]
  },
  {
   "cell_type": "code",
   "execution_count": 84,
   "id": "ec9cf137-0610-43cb-9c45-d9dc83b332f5",
   "metadata": {},
   "outputs": [
    {
     "data": {
      "image/png": "[encoded data removed]",
      "text/plain": [
       "<Figure size 800x600 with 1 Axes>"
      ]
     },
     "metadata": {},
     "output_type": "display_data"
    }
   ],
   "source": [
    "custom_palette = {\n",
    "    'completed': 'tan',\n",
    "    'none': 'lightcyan'\n",
    "}\n",
    "\n",
    "sns.set(style=\"whitegrid\")\n",
    "plt.figure(figsize=(8,6))\n",
    "sns.barplot(data=grouped_scores_melted, \n",
    "            x=\"Subject\", \n",
    "            y=\"Average Score\", \n",
    "            hue=\"test preparation course\",\n",
    "            palette=custom_palette)\n",
    "\n",
    "plt.title(\"Average Test Scores by Test Preparation Course Completion\")\n",
    "plt.ylabel(\"Average Score\")\n",
    "plt.xlabel(\"Subject\")\n",
    "plt.legend(title=\"Test Preparation\")\n",
    "plt.tight_layout()\n",
    "plt.show()"
   ]
  },
  {
   "cell_type": "markdown",
   "id": "da02f312-00f0-41e9-a974-8d8787de34b7",
   "metadata": {},
   "source": [
    "##### 3. Is there a relationship between the parental level of education and scores?"
   ]
  },
  {
   "cell_type": "code",
   "execution_count": 27,
   "id": "b8684ac2-05da-4225-89d7-b58b8b4981ec",
   "metadata": {},
   "outputs": [
    {
     "data": {
      "text/html": [
       "<div>\n",
       "<style scoped>\n",
       "    .dataframe tbody tr th:only-of-type {\n",
       "        vertical-align: middle;\n",
       "    }\n",
       "\n",
       "    .dataframe tbody tr th {\n",
       "        vertical-align: top;\n",
       "    }\n",
       "\n",
       "    .dataframe thead th {\n",
       "        text-align: right;\n",
       "    }\n",
       "</style>\n",
       "<table border=\"1\" class=\"dataframe\">\n",
       "  <thead>\n",
       "    <tr style=\"text-align: right;\">\n",
       "      <th></th>\n",
       "      <th>math score</th>\n",
       "    </tr>\n",
       "    <tr>\n",
       "      <th>parental level of education</th>\n",
       "      <th></th>\n",
       "    </tr>\n",
       "  </thead>\n",
       "  <tbody>\n",
       "    <tr>\n",
       "      <th>high school</th>\n",
       "      <td>62.137755</td>\n",
       "    </tr>\n",
       "    <tr>\n",
       "      <th>some high school</th>\n",
       "      <td>63.497207</td>\n",
       "    </tr>\n",
       "    <tr>\n",
       "      <th>some college</th>\n",
       "      <td>67.128319</td>\n",
       "    </tr>\n",
       "    <tr>\n",
       "      <th>associate's degree</th>\n",
       "      <td>67.882883</td>\n",
       "    </tr>\n",
       "    <tr>\n",
       "      <th>bachelor's degree</th>\n",
       "      <td>69.389831</td>\n",
       "    </tr>\n",
       "    <tr>\n",
       "      <th>master's degree</th>\n",
       "      <td>69.745763</td>\n",
       "    </tr>\n",
       "  </tbody>\n",
       "</table>\n",
       "</div>"
      ],
      "text/plain": [
       "                             math score\n",
       "parental level of education            \n",
       "high school                   62.137755\n",
       "some high school              63.497207\n",
       "some college                  67.128319\n",
       "associate's degree            67.882883\n",
       "bachelor's degree             69.389831\n",
       "master's degree               69.745763"
      ]
     },
     "execution_count": 27,
     "metadata": {},
     "output_type": "execute_result"
    }
   ],
   "source": [
    "cols_to_see =[\"parental level of education\", \"math score\"]\n",
    "students_per[cols_to_see].groupby([\"parental level of education\"]).mean().sort_values(by='math score')"
   ]
  },
  {
   "cell_type": "code",
   "execution_count": 28,
   "id": "160f463b-eec9-4865-8ba1-e6cf67d2658a",
   "metadata": {},
   "outputs": [],
   "source": [
    "def avg(scores):\n",
    "    return sum(scores)/3"
   ]
  },
  {
   "cell_type": "code",
   "execution_count": 29,
   "id": "251149c3-a61d-4f1d-8eb4-ed492200ce76",
   "metadata": {},
   "outputs": [],
   "source": [
    "#students_per.columns\n",
    "students_per['avg score'] = students_per[['math score', 'reading score', 'writing score']].apply(avg, axis=1)"
   ]
  },
  {
   "cell_type": "code",
   "execution_count": 30,
   "id": "4c643a47-e96d-483f-87a8-e5ea3b21ad60",
   "metadata": {},
   "outputs": [
    {
     "data": {
      "text/html": [
       "<div>\n",
       "<style scoped>\n",
       "    .dataframe tbody tr th:only-of-type {\n",
       "        vertical-align: middle;\n",
       "    }\n",
       "\n",
       "    .dataframe tbody tr th {\n",
       "        vertical-align: top;\n",
       "    }\n",
       "\n",
       "    .dataframe thead th {\n",
       "        text-align: right;\n",
       "    }\n",
       "</style>\n",
       "<table border=\"1\" class=\"dataframe\">\n",
       "  <thead>\n",
       "    <tr style=\"text-align: right;\">\n",
       "      <th></th>\n",
       "      <th>gender</th>\n",
       "      <th>parental level of education</th>\n",
       "      <th>test preparation course</th>\n",
       "      <th>math score</th>\n",
       "      <th>reading score</th>\n",
       "      <th>writing score</th>\n",
       "      <th>avg score</th>\n",
       "    </tr>\n",
       "  </thead>\n",
       "  <tbody>\n",
       "    <tr>\n",
       "      <th>0</th>\n",
       "      <td>female</td>\n",
       "      <td>bachelor's degree</td>\n",
       "      <td>none</td>\n",
       "      <td>72</td>\n",
       "      <td>72</td>\n",
       "      <td>74</td>\n",
       "      <td>72.666667</td>\n",
       "    </tr>\n",
       "    <tr>\n",
       "      <th>1</th>\n",
       "      <td>female</td>\n",
       "      <td>some college</td>\n",
       "      <td>completed</td>\n",
       "      <td>69</td>\n",
       "      <td>90</td>\n",
       "      <td>88</td>\n",
       "      <td>82.333333</td>\n",
       "    </tr>\n",
       "    <tr>\n",
       "      <th>2</th>\n",
       "      <td>female</td>\n",
       "      <td>master's degree</td>\n",
       "      <td>none</td>\n",
       "      <td>90</td>\n",
       "      <td>95</td>\n",
       "      <td>93</td>\n",
       "      <td>92.666667</td>\n",
       "    </tr>\n",
       "    <tr>\n",
       "      <th>3</th>\n",
       "      <td>male</td>\n",
       "      <td>associate's degree</td>\n",
       "      <td>none</td>\n",
       "      <td>47</td>\n",
       "      <td>57</td>\n",
       "      <td>44</td>\n",
       "      <td>49.333333</td>\n",
       "    </tr>\n",
       "    <tr>\n",
       "      <th>4</th>\n",
       "      <td>male</td>\n",
       "      <td>some college</td>\n",
       "      <td>none</td>\n",
       "      <td>76</td>\n",
       "      <td>78</td>\n",
       "      <td>75</td>\n",
       "      <td>76.333333</td>\n",
       "    </tr>\n",
       "    <tr>\n",
       "      <th>...</th>\n",
       "      <td>...</td>\n",
       "      <td>...</td>\n",
       "      <td>...</td>\n",
       "      <td>...</td>\n",
       "      <td>...</td>\n",
       "      <td>...</td>\n",
       "      <td>...</td>\n",
       "    </tr>\n",
       "    <tr>\n",
       "      <th>995</th>\n",
       "      <td>female</td>\n",
       "      <td>master's degree</td>\n",
       "      <td>completed</td>\n",
       "      <td>88</td>\n",
       "      <td>99</td>\n",
       "      <td>95</td>\n",
       "      <td>94.000000</td>\n",
       "    </tr>\n",
       "    <tr>\n",
       "      <th>996</th>\n",
       "      <td>male</td>\n",
       "      <td>high school</td>\n",
       "      <td>none</td>\n",
       "      <td>62</td>\n",
       "      <td>55</td>\n",
       "      <td>55</td>\n",
       "      <td>57.333333</td>\n",
       "    </tr>\n",
       "    <tr>\n",
       "      <th>997</th>\n",
       "      <td>female</td>\n",
       "      <td>high school</td>\n",
       "      <td>completed</td>\n",
       "      <td>59</td>\n",
       "      <td>71</td>\n",
       "      <td>65</td>\n",
       "      <td>65.000000</td>\n",
       "    </tr>\n",
       "    <tr>\n",
       "      <th>998</th>\n",
       "      <td>female</td>\n",
       "      <td>some college</td>\n",
       "      <td>completed</td>\n",
       "      <td>68</td>\n",
       "      <td>78</td>\n",
       "      <td>77</td>\n",
       "      <td>74.333333</td>\n",
       "    </tr>\n",
       "    <tr>\n",
       "      <th>999</th>\n",
       "      <td>female</td>\n",
       "      <td>some college</td>\n",
       "      <td>none</td>\n",
       "      <td>77</td>\n",
       "      <td>86</td>\n",
       "      <td>86</td>\n",
       "      <td>83.000000</td>\n",
       "    </tr>\n",
       "  </tbody>\n",
       "</table>\n",
       "<p>1000 rows × 7 columns</p>\n",
       "</div>"
      ],
      "text/plain": [
       "     gender parental level of education test preparation course  math score  \\\n",
       "0    female           bachelor's degree                    none          72   \n",
       "1    female                some college               completed          69   \n",
       "2    female             master's degree                    none          90   \n",
       "3      male          associate's degree                    none          47   \n",
       "4      male                some college                    none          76   \n",
       "..      ...                         ...                     ...         ...   \n",
       "995  female             master's degree               completed          88   \n",
       "996    male                 high school                    none          62   \n",
       "997  female                 high school               completed          59   \n",
       "998  female                some college               completed          68   \n",
       "999  female                some college                    none          77   \n",
       "\n",
       "     reading score  writing score  avg score  \n",
       "0               72             74  72.666667  \n",
       "1               90             88  82.333333  \n",
       "2               95             93  92.666667  \n",
       "3               57             44  49.333333  \n",
       "4               78             75  76.333333  \n",
       "..             ...            ...        ...  \n",
       "995             99             95  94.000000  \n",
       "996             55             55  57.333333  \n",
       "997             71             65  65.000000  \n",
       "998             78             77  74.333333  \n",
       "999             86             86  83.000000  \n",
       "\n",
       "[1000 rows x 7 columns]"
      ]
     },
     "execution_count": 30,
     "metadata": {},
     "output_type": "execute_result"
    }
   ],
   "source": [
    "students_per"
   ]
  },
  {
   "cell_type": "code",
   "execution_count": 31,
   "id": "76f91af3-dfae-4014-ab4d-cd6639c5825e",
   "metadata": {},
   "outputs": [
    {
     "data": {
      "text/html": [
       "<div>\n",
       "<style scoped>\n",
       "    .dataframe tbody tr th:only-of-type {\n",
       "        vertical-align: middle;\n",
       "    }\n",
       "\n",
       "    .dataframe tbody tr th {\n",
       "        vertical-align: top;\n",
       "    }\n",
       "\n",
       "    .dataframe thead th {\n",
       "        text-align: right;\n",
       "    }\n",
       "</style>\n",
       "<table border=\"1\" class=\"dataframe\">\n",
       "  <thead>\n",
       "    <tr style=\"text-align: right;\">\n",
       "      <th></th>\n",
       "      <th>parental level of education</th>\n",
       "      <th>math score</th>\n",
       "      <th>reading score</th>\n",
       "      <th>writing score</th>\n",
       "      <th>avg score</th>\n",
       "    </tr>\n",
       "  </thead>\n",
       "  <tbody>\n",
       "    <tr>\n",
       "      <th>0</th>\n",
       "      <td>high school</td>\n",
       "      <td>62.137755</td>\n",
       "      <td>64.704082</td>\n",
       "      <td>62.448980</td>\n",
       "      <td>63.096939</td>\n",
       "    </tr>\n",
       "    <tr>\n",
       "      <th>1</th>\n",
       "      <td>some high school</td>\n",
       "      <td>63.497207</td>\n",
       "      <td>66.938547</td>\n",
       "      <td>64.888268</td>\n",
       "      <td>65.108007</td>\n",
       "    </tr>\n",
       "    <tr>\n",
       "      <th>2</th>\n",
       "      <td>some college</td>\n",
       "      <td>67.128319</td>\n",
       "      <td>69.460177</td>\n",
       "      <td>68.840708</td>\n",
       "      <td>68.476401</td>\n",
       "    </tr>\n",
       "    <tr>\n",
       "      <th>3</th>\n",
       "      <td>associate's degree</td>\n",
       "      <td>67.882883</td>\n",
       "      <td>70.927928</td>\n",
       "      <td>69.896396</td>\n",
       "      <td>69.569069</td>\n",
       "    </tr>\n",
       "    <tr>\n",
       "      <th>4</th>\n",
       "      <td>bachelor's degree</td>\n",
       "      <td>69.389831</td>\n",
       "      <td>73.000000</td>\n",
       "      <td>73.381356</td>\n",
       "      <td>71.923729</td>\n",
       "    </tr>\n",
       "    <tr>\n",
       "      <th>5</th>\n",
       "      <td>master's degree</td>\n",
       "      <td>69.745763</td>\n",
       "      <td>75.372881</td>\n",
       "      <td>75.677966</td>\n",
       "      <td>73.598870</td>\n",
       "    </tr>\n",
       "  </tbody>\n",
       "</table>\n",
       "</div>"
      ],
      "text/plain": [
       "  parental level of education  math score  reading score  writing score  \\\n",
       "0                 high school   62.137755      64.704082      62.448980   \n",
       "1            some high school   63.497207      66.938547      64.888268   \n",
       "2                some college   67.128319      69.460177      68.840708   \n",
       "3          associate's degree   67.882883      70.927928      69.896396   \n",
       "4           bachelor's degree   69.389831      73.000000      73.381356   \n",
       "5             master's degree   69.745763      75.372881      75.677966   \n",
       "\n",
       "   avg score  \n",
       "0  63.096939  \n",
       "1  65.108007  \n",
       "2  68.476401  \n",
       "3  69.569069  \n",
       "4  71.923729  \n",
       "5  73.598870  "
      ]
     },
     "execution_count": 31,
     "metadata": {},
     "output_type": "execute_result"
    }
   ],
   "source": [
    "cols_to_see =[\"parental level of education\", \"math score\", \"reading score\", \"writing score\", \"avg score\"]\n",
    "temp = students_per[cols_to_see].groupby([\"parental level of education\"]).mean().sort_values(by='avg score').reset_index()\n",
    "temp"
   ]
  },
  {
   "cell_type": "code",
   "execution_count": 32,
   "id": "3e679310-32d1-4c79-b605-2d400f368456",
   "metadata": {},
   "outputs": [
    {
     "data": {
      "text/plain": [
       "<Axes: xlabel='parental level of education'>"
      ]
     },
     "execution_count": 32,
     "metadata": {},
     "output_type": "execute_result"
    },
    {
     "data": {
      "image/png": "[encoded data removed]",
      "text/plain": [
       "<Figure size 640x480 with 1 Axes>"
      ]
     },
     "metadata": {},
     "output_type": "display_data"
    }
   ],
   "source": [
    "temp.plot(kind=\"bar\", x=\"parental level of education\", y=\"avg score\")"
   ]
  },
  {
   "cell_type": "markdown",
   "id": "2639f20a-4826-45a8-a187-edc2d497f5c2",
   "metadata": {},
   "source": [
    "## Conclusion - findings & Recommendation (to be filled after we are done from the analysis)"
   ]
  },
  {
   "cell_type": "markdown",
   "id": "1a45b5eb-6013-4e94-a00f-96bb38334324",
   "metadata": {},
   "source": [
    "#### 1."
   ]
  },
  {
   "cell_type": "markdown",
   "id": "77632164-874a-4fbc-bcc4-88e4fa0cea79",
   "metadata": {},
   "source": [
    "#### 2. It seems that there is slight difference of scores, which shows that the preparation courses does not have a significant impact on the results. \n",
    "#### We can say that the test preparation course does not improve/have an effect on the students' results."
   ]
  },
  {
   "cell_type": "markdown",
   "id": "57f088ba-d98d-4af4-bae1-59a3edcbc75a",
   "metadata": {},
   "source": [
    "#### 3. "
   ]
  },
  {
   "cell_type": "code",
   "execution_count": null,
   "id": "8fce3a0a-2508-4c76-a7da-aade57058072",
   "metadata": {},
   "outputs": [],
   "source": []
  }
 ],
 "metadata": {
  "kernelspec": {
   "display_name": "Python [conda env:base] *",
   "language": "python",
   "name": "conda-base-py"
  },
  "language_info": {
   "codemirror_mode": {
    "name": "ipython",
    "version": 3
   },
   "file_extension": ".py",
   "mimetype": "text/x-python",
   "name": "python",
   "nbconvert_exporter": "python",
   "pygments_lexer": "ipython3",
   "version": "3.12.7"
  }
 },
 "nbformat": 4,
 "nbformat_minor": 5
}
